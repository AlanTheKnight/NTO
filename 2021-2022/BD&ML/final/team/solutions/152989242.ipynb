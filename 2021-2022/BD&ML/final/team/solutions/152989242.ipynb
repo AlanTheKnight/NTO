{
 "cells": [
  {
   "cell_type": "markdown",
   "metadata": {},
   "source": [
    "# Решение №152989242\n",
    "\n",
    "Инструкции по запуску:\n",
    "1) Установить зависимости\n",
    "2) Запустить остальные ячейки в последовательном порядке\n",
    "3) Вывод ответа в файле `output.txt`"
   ]
  },
  {
   "cell_type": "code",
   "execution_count": null,
   "metadata": {
    "colab": {
     "base_uri": "https://localhost:8080/"
    },
    "id": "nv08jVaUyr-5",
    "outputId": "9cf7ba22-c885-4dbb-ece2-7ea67505dbb3"
   },
   "outputs": [],
   "source": [
    "!pip install catboost"
   ]
  },
  {
   "cell_type": "code",
   "execution_count": null,
   "metadata": {
    "id": "JnNOYQlb_NUp"
   },
   "outputs": [],
   "source": [
    "import pandas as pd\n",
    "import numpy as np\n",
    "import matplotlib.pyplot as plt\n",
    "from catboost import CatBoostRegressor\n",
    "import datetime\n"
   ]
  },
  {
   "cell_type": "code",
   "execution_count": null,
   "metadata": {
    "id": "PIUPiPlz_nUX"
   },
   "outputs": [],
   "source": [
    "df = pd.read_csv('train.csv', parse_dates=True)\n",
    "\n",
    "df['total'][0] = 154140 - 3700\n",
    "for i in range(0, len(df['total']) - 1):\n",
    "    if df['total'][i] == \"?\":\n",
    "        cur, next, prev = df['total'][i], i + 1, i - 1\n",
    "        while df['total'][next] == \"?\":\n",
    "            next += 1\n",
    "        while df['total'][prev] == \"?\":\n",
    "            prev -= 1\n",
    "\n",
    "        generated = np.linspace(\n",
    "            int(df['total'][prev]),\n",
    "            int(df['total'][next]),\n",
    "            next - prev,\n",
    "            endpoint=False)\n",
    "        for i in range(prev + 1, next):\n",
    "            df['total'][i] = generated[i - prev]\n",
    "\n",
    "df['total'] = df['total'].astype(float)\n",
    "df['datetime'] = pd.to_datetime(df['datetime'])\n"
   ]
  },
  {
   "cell_type": "code",
   "execution_count": null,
   "metadata": {
    "id": "h9biz4hrzA3C"
   },
   "outputs": [],
   "source": [
    "inp = []\n",
    "ans = []\n",
    "for i in range(24*365+24, len(df['datetime'][24*365+24:])):\n",
    "    tmp = [df['datetime'][i].hour,\n",
    "           df['datetime'][i].day,\n",
    "           df['datetime'][i].dayofweek,\n",
    "           df['datetime'][i].month,\n",
    "           df['datetime'][i].dayofyear,\n",
    "           df['datetime'][i].weekofyear,\n",
    "           df['datetime'][i].quarter,\n",
    "           df['datetime'][i].year]\n",
    "    for j in range(1, 25):\n",
    "        tmp.append(df['total'][i-24*365-j])\n",
    "    for j in range(1, 25):\n",
    "        tmp.append(df['total'][i-j])\n",
    "    for j in range(1, 25):\n",
    "        tmp.append(df['total'][i-24*30-j])\n",
    "    for j in range(1, 25):\n",
    "        tmp.append(df['total'][i-24*7-j])\n",
    "    inp.append(tmp)\n",
    "    ans.append(df['total'][i])\n"
   ]
  },
  {
   "cell_type": "code",
   "execution_count": null,
   "metadata": {
    "colab": {
     "base_uri": "https://localhost:8080/"
    },
    "id": "qrOyaeAm0HrX",
    "outputId": "19687c37-b303-4f2f-f5a3-4b4d26be406c"
   },
   "outputs": [],
   "source": [
    "model = CatBoostRegressor(iterations=10000, random_seed=700)\n",
    "model.fit(inp, ans)\n"
   ]
  },
  {
   "cell_type": "code",
   "execution_count": null,
   "metadata": {
    "id": "WqmgRlH_B726"
   },
   "outputs": [],
   "source": [
    "total = list(df['total'])\n",
    "pred = []\n",
    "start = datetime.datetime(2009, 1, 1)\n",
    "for i in range(4344):\n",
    "    cur_t = pd.Timestamp(start + datetime.timedelta(hours=i))\n",
    "    get = [cur_t.hour,\n",
    "           cur_t.day,\n",
    "           cur_t.dayofweek,\n",
    "           cur_t.month,\n",
    "           cur_t.dayofyear,\n",
    "           cur_t.weekofyear,\n",
    "           cur_t.quarter,\n",
    "           cur_t.year]\n",
    "    for j in range(1, 25):\n",
    "        get.append(total[i-24*365-j])\n",
    "    for j in range(1, 25):\n",
    "        get.append(total[i-j])\n",
    "    for j in range(1, 25):\n",
    "        get.append(total[i-24*30-j])\n",
    "    for j in range(1, 25):\n",
    "        get.append(total[i-24*7-j])\n",
    "    a = model.predict([get, ])[0]\n",
    "    total.append(a)\n",
    "    pred.append(a)\n"
   ]
  },
  {
   "cell_type": "code",
   "execution_count": null,
   "metadata": {
    "id": "AcW6bQLzE7vT"
   },
   "outputs": [],
   "source": [
    "with open('output.txt', 'w') as f:\n",
    "    for i in pred:\n",
    "        f.write(str(i)+'\\n')\n"
   ]
  }
 ],
 "metadata": {
  "accelerator": "GPU",
  "colab": {
   "name": "Untitled",
   "provenance": []
  },
  "kernelspec": {
   "display_name": "Python 3 (ipykernel)",
   "language": "python",
   "name": "python3"
  },
  "language_info": {
   "codemirror_mode": {
    "name": "ipython",
    "version": 3
   },
   "file_extension": ".py",
   "mimetype": "text/x-python",
   "name": "python",
   "nbconvert_exporter": "python",
   "pygments_lexer": "ipython3",
   "version": "3.9.7"
  }
 },
 "nbformat": 4,
 "nbformat_minor": 1
}
