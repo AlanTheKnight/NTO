{
 "cells": [
  {
   "cell_type": "markdown",
   "metadata": {},
   "source": [
    "# Решение №153002270\n",
    "\n",
    "Инструкции по запуску:\n",
    "\n",
    "1. Установить зависимости\n",
    "2. Запустить остальные ячейки в последовательном порядке\n",
    "3. Вывод ответа в файле `output.txt`\n"
   ]
  },
  {
   "cell_type": "code",
   "execution_count": null,
   "metadata": {},
   "outputs": [],
   "source": [
    "!pip install prophet\n"
   ]
  },
  {
   "cell_type": "code",
   "execution_count": null,
   "metadata": {},
   "outputs": [],
   "source": [
    "import numpy as np\n",
    "import pandas as pd\n",
    "import matplotlib.pyplot as plt\n",
    "from datetime import datetime\n"
   ]
  },
  {
   "cell_type": "code",
   "execution_count": null,
   "metadata": {},
   "outputs": [],
   "source": [
    "df = pd.read_csv('train.csv')\n",
    "df.total.replace(\"?\", 0, inplace=True)\n",
    "df.total = df.total.astype(int)\n",
    "df.datetime = pd.to_datetime(df.datetime)\n",
    "df.sort_values(by='datetime', inplace=True)\n",
    "df.rename(columns={'datetime': 'ds', 'total': 'y'}, inplace=True)\n"
   ]
  },
  {
   "cell_type": "code",
   "execution_count": null,
   "metadata": {},
   "outputs": [],
   "source": [
    "from prophet import Prophet\n",
    "\n",
    "\n",
    "m = Prophet(\n",
    "    changepoint_prior_scale=20,\n",
    "    seasonality_prior_scale=40,\n",
    "    holidays_prior_scale=20,\n",
    "    daily_seasonality=False,\n",
    "    weekly_seasonality=False,\n",
    "    yearly_seasonality=False\n",
    ")\n",
    "\n",
    "m.add_seasonality(name='weekly', period=7, fourier_order=30)\n",
    "m.add_seasonality(name='daily', period=1, fourier_order=20)\n",
    "m.add_seasonality(name=\"monthly\", period=30.5, fourier_order=30)\n",
    "m.add_seasonality(name=\"yearly\", period=365.25, fourier_order=20)\n",
    "m.add_country_holidays(country_name='RU')\n",
    "m.fit(df=df)\n"
   ]
  },
  {
   "cell_type": "code",
   "execution_count": null,
   "metadata": {},
   "outputs": [],
   "source": [
    "future = m.make_future_dataframe(periods=4344, freq='H', include_history=False)\n"
   ]
  },
  {
   "cell_type": "code",
   "execution_count": null,
   "metadata": {},
   "outputs": [],
   "source": [
    "forecast = m.predict(future)\n"
   ]
  },
  {
   "cell_type": "code",
   "execution_count": null,
   "metadata": {},
   "outputs": [],
   "source": [
    "with open(\"output.txt\", \"w\") as f:\n",
    "    for v in forecast['yhat']:\n",
    "        f.write(str(v))\n",
    "        f.write('\\n')\n"
   ]
  }
 ],
 "metadata": {
  "interpreter": {
   "hash": "cb83ca93b0b33f27ac9b9b46a6b8ff1fea8c5dac0c4ceae9f58fd0f418b19899"
  },
  "kernelspec": {
   "display_name": "Python 3.9.5 ('.venv': poetry)",
   "language": "python",
   "name": "python3"
  },
  "language_info": {
   "codemirror_mode": {
    "name": "ipython",
    "version": 3
   },
   "file_extension": ".py",
   "mimetype": "text/x-python",
   "name": "python",
   "nbconvert_exporter": "python",
   "pygments_lexer": "ipython3",
   "version": "3.9.5"
  },
  "orig_nbformat": 4
 },
 "nbformat": 4,
 "nbformat_minor": 2
}
