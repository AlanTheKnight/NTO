{
 "cells": [
  {
   "cell_type": "code",
   "execution_count": 15,
   "metadata": {},
   "outputs": [],
   "source": [
    "import numpy as np\n",
    "import pandas as pd\n",
    "from sklearn.model_selection import train_test_split\n",
    "from sklearn.preprocessing import StandardScaler\n",
    "from sklearn.linear_model import LinearRegression\n",
    "from sklearn.metrics import mean_squared_error"
   ]
  },
  {
   "cell_type": "code",
   "execution_count": 9,
   "metadata": {},
   "outputs": [],
   "source": [
    "df = pd.read_csv('data/train.csv')\n",
    "\n",
    "# Replace all missing data with zeros\n",
    "df.total.replace(\"?\", 0, inplace=True)\n",
    "\n",
    "# Convert to numeric\n",
    "df.total = df.total.astype(float)\n",
    "\n",
    "# Prepare the dataset for training\n",
    "df.rename(columns={'datetime': 'ds', 'total': 'y'}, inplace=True)\n",
    "\n",
    "# df.head()\n",
    "\n",
    "training_set, test_set = train_test_split(df, test_size=0.3, shuffle=False)"
   ]
  },
  {
   "cell_type": "code",
   "execution_count": 13,
   "metadata": {},
   "outputs": [
    {
     "data": {
      "text/plain": [
       "LinearRegression(n_jobs=4)"
      ]
     },
     "execution_count": 13,
     "metadata": {},
     "output_type": "execute_result"
    }
   ],
   "source": [
    "N_JOBS = 4\n",
    "\n",
    "r = LinearRegression(n_jobs=N_JOBS)\n",
    "\n",
    "indexes = [[i] for i in range(1, len(training_set) + 1)]\n",
    "\n",
    "r.fit(indexes, training_set['y'])\n"
   ]
  },
  {
   "cell_type": "code",
   "execution_count": 18,
   "metadata": {},
   "outputs": [
    {
     "ename": "ValueError",
     "evalue": "Expected 2D array, got 1D array instead:\narray=[].\nReshape your data either using array.reshape(-1, 1) if your data has a single feature or array.reshape(1, -1) if it contains a single sample.",
     "output_type": "error",
     "traceback": [
      "\u001b[0;31m---------------------------------------------------------------------------\u001b[0m",
      "\u001b[0;31mValueError\u001b[0m                                Traceback (most recent call last)",
      "\u001b[1;32m/home/alantheknight/nto-final/team/solution.ipynb Cell 4'\u001b[0m in \u001b[0;36m<cell line: 2>\u001b[0;34m()\u001b[0m\n\u001b[1;32m      <a href='vscode-notebook-cell:/home/alantheknight/nto-final/team/solution.ipynb#ch0000005?line=0'>1</a>\u001b[0m test_indexes \u001b[39m=\u001b[39m [[i] \u001b[39mfor\u001b[39;00m i \u001b[39min\u001b[39;00m \u001b[39mrange\u001b[39m(\u001b[39mlen\u001b[39m(training_set) \u001b[39m+\u001b[39m \u001b[39m2\u001b[39m, \u001b[39mlen\u001b[39m(test_set) \u001b[39m+\u001b[39m \u001b[39m1\u001b[39m)]\n\u001b[0;32m----> <a href='vscode-notebook-cell:/home/alantheknight/nto-final/team/solution.ipynb#ch0000005?line=1'>2</a>\u001b[0m mean_squared_error(test_set[\u001b[39m'\u001b[39m\u001b[39my\u001b[39m\u001b[39m'\u001b[39m], r\u001b[39m.\u001b[39;49mpredict(test_indexes))\n",
      "File \u001b[0;32m~/nto-final/team/.venv/lib/python3.9/site-packages/sklearn/linear_model/_base.py:362\u001b[0m, in \u001b[0;36mLinearModel.predict\u001b[0;34m(self, X)\u001b[0m\n\u001b[1;32m    <a href='file:///home/alantheknight/nto-final/team/.venv/lib/python3.9/site-packages/sklearn/linear_model/_base.py?line=347'>348</a>\u001b[0m \u001b[39mdef\u001b[39;00m \u001b[39mpredict\u001b[39m(\u001b[39mself\u001b[39m, X):\n\u001b[1;32m    <a href='file:///home/alantheknight/nto-final/team/.venv/lib/python3.9/site-packages/sklearn/linear_model/_base.py?line=348'>349</a>\u001b[0m     \u001b[39m\"\"\"\u001b[39;00m\n\u001b[1;32m    <a href='file:///home/alantheknight/nto-final/team/.venv/lib/python3.9/site-packages/sklearn/linear_model/_base.py?line=349'>350</a>\u001b[0m \u001b[39m    Predict using the linear model.\u001b[39;00m\n\u001b[1;32m    <a href='file:///home/alantheknight/nto-final/team/.venv/lib/python3.9/site-packages/sklearn/linear_model/_base.py?line=350'>351</a>\u001b[0m \n\u001b[0;32m   (...)\u001b[0m\n\u001b[1;32m    <a href='file:///home/alantheknight/nto-final/team/.venv/lib/python3.9/site-packages/sklearn/linear_model/_base.py?line=359'>360</a>\u001b[0m \u001b[39m        Returns predicted values.\u001b[39;00m\n\u001b[1;32m    <a href='file:///home/alantheknight/nto-final/team/.venv/lib/python3.9/site-packages/sklearn/linear_model/_base.py?line=360'>361</a>\u001b[0m \u001b[39m    \"\"\"\u001b[39;00m\n\u001b[0;32m--> <a href='file:///home/alantheknight/nto-final/team/.venv/lib/python3.9/site-packages/sklearn/linear_model/_base.py?line=361'>362</a>\u001b[0m     \u001b[39mreturn\u001b[39;00m \u001b[39mself\u001b[39;49m\u001b[39m.\u001b[39;49m_decision_function(X)\n",
      "File \u001b[0;32m~/nto-final/team/.venv/lib/python3.9/site-packages/sklearn/linear_model/_base.py:345\u001b[0m, in \u001b[0;36mLinearModel._decision_function\u001b[0;34m(self, X)\u001b[0m\n\u001b[1;32m    <a href='file:///home/alantheknight/nto-final/team/.venv/lib/python3.9/site-packages/sklearn/linear_model/_base.py?line=341'>342</a>\u001b[0m \u001b[39mdef\u001b[39;00m \u001b[39m_decision_function\u001b[39m(\u001b[39mself\u001b[39m, X):\n\u001b[1;32m    <a href='file:///home/alantheknight/nto-final/team/.venv/lib/python3.9/site-packages/sklearn/linear_model/_base.py?line=342'>343</a>\u001b[0m     check_is_fitted(\u001b[39mself\u001b[39m)\n\u001b[0;32m--> <a href='file:///home/alantheknight/nto-final/team/.venv/lib/python3.9/site-packages/sklearn/linear_model/_base.py?line=344'>345</a>\u001b[0m     X \u001b[39m=\u001b[39m \u001b[39mself\u001b[39;49m\u001b[39m.\u001b[39;49m_validate_data(X, accept_sparse\u001b[39m=\u001b[39;49m[\u001b[39m\"\u001b[39;49m\u001b[39mcsr\u001b[39;49m\u001b[39m\"\u001b[39;49m, \u001b[39m\"\u001b[39;49m\u001b[39mcsc\u001b[39;49m\u001b[39m\"\u001b[39;49m, \u001b[39m\"\u001b[39;49m\u001b[39mcoo\u001b[39;49m\u001b[39m\"\u001b[39;49m], reset\u001b[39m=\u001b[39;49m\u001b[39mFalse\u001b[39;49;00m)\n\u001b[1;32m    <a href='file:///home/alantheknight/nto-final/team/.venv/lib/python3.9/site-packages/sklearn/linear_model/_base.py?line=345'>346</a>\u001b[0m     \u001b[39mreturn\u001b[39;00m safe_sparse_dot(X, \u001b[39mself\u001b[39m\u001b[39m.\u001b[39mcoef_\u001b[39m.\u001b[39mT, dense_output\u001b[39m=\u001b[39m\u001b[39mTrue\u001b[39;00m) \u001b[39m+\u001b[39m \u001b[39mself\u001b[39m\u001b[39m.\u001b[39mintercept_\n",
      "File \u001b[0;32m~/nto-final/team/.venv/lib/python3.9/site-packages/sklearn/base.py:566\u001b[0m, in \u001b[0;36mBaseEstimator._validate_data\u001b[0;34m(self, X, y, reset, validate_separately, **check_params)\u001b[0m\n\u001b[1;32m    <a href='file:///home/alantheknight/nto-final/team/.venv/lib/python3.9/site-packages/sklearn/base.py?line=563'>564</a>\u001b[0m     \u001b[39mraise\u001b[39;00m \u001b[39mValueError\u001b[39;00m(\u001b[39m\"\u001b[39m\u001b[39mValidation should be done on X, y or both.\u001b[39m\u001b[39m\"\u001b[39m)\n\u001b[1;32m    <a href='file:///home/alantheknight/nto-final/team/.venv/lib/python3.9/site-packages/sklearn/base.py?line=564'>565</a>\u001b[0m \u001b[39melif\u001b[39;00m \u001b[39mnot\u001b[39;00m no_val_X \u001b[39mand\u001b[39;00m no_val_y:\n\u001b[0;32m--> <a href='file:///home/alantheknight/nto-final/team/.venv/lib/python3.9/site-packages/sklearn/base.py?line=565'>566</a>\u001b[0m     X \u001b[39m=\u001b[39m check_array(X, \u001b[39m*\u001b[39;49m\u001b[39m*\u001b[39;49mcheck_params)\n\u001b[1;32m    <a href='file:///home/alantheknight/nto-final/team/.venv/lib/python3.9/site-packages/sklearn/base.py?line=566'>567</a>\u001b[0m     out \u001b[39m=\u001b[39m X\n\u001b[1;32m    <a href='file:///home/alantheknight/nto-final/team/.venv/lib/python3.9/site-packages/sklearn/base.py?line=567'>568</a>\u001b[0m \u001b[39melif\u001b[39;00m no_val_X \u001b[39mand\u001b[39;00m \u001b[39mnot\u001b[39;00m no_val_y:\n",
      "File \u001b[0;32m~/nto-final/team/.venv/lib/python3.9/site-packages/sklearn/utils/validation.py:769\u001b[0m, in \u001b[0;36mcheck_array\u001b[0;34m(array, accept_sparse, accept_large_sparse, dtype, order, copy, force_all_finite, ensure_2d, allow_nd, ensure_min_samples, ensure_min_features, estimator)\u001b[0m\n\u001b[1;32m    <a href='file:///home/alantheknight/nto-final/team/.venv/lib/python3.9/site-packages/sklearn/utils/validation.py?line=766'>767</a>\u001b[0m     \u001b[39m# If input is 1D raise error\u001b[39;00m\n\u001b[1;32m    <a href='file:///home/alantheknight/nto-final/team/.venv/lib/python3.9/site-packages/sklearn/utils/validation.py?line=767'>768</a>\u001b[0m     \u001b[39mif\u001b[39;00m array\u001b[39m.\u001b[39mndim \u001b[39m==\u001b[39m \u001b[39m1\u001b[39m:\n\u001b[0;32m--> <a href='file:///home/alantheknight/nto-final/team/.venv/lib/python3.9/site-packages/sklearn/utils/validation.py?line=768'>769</a>\u001b[0m         \u001b[39mraise\u001b[39;00m \u001b[39mValueError\u001b[39;00m(\n\u001b[1;32m    <a href='file:///home/alantheknight/nto-final/team/.venv/lib/python3.9/site-packages/sklearn/utils/validation.py?line=769'>770</a>\u001b[0m             \u001b[39m\"\u001b[39m\u001b[39mExpected 2D array, got 1D array instead:\u001b[39m\u001b[39m\\n\u001b[39;00m\u001b[39marray=\u001b[39m\u001b[39m{}\u001b[39;00m\u001b[39m.\u001b[39m\u001b[39m\\n\u001b[39;00m\u001b[39m\"\u001b[39m\n\u001b[1;32m    <a href='file:///home/alantheknight/nto-final/team/.venv/lib/python3.9/site-packages/sklearn/utils/validation.py?line=770'>771</a>\u001b[0m             \u001b[39m\"\u001b[39m\u001b[39mReshape your data either using array.reshape(-1, 1) if \u001b[39m\u001b[39m\"\u001b[39m\n\u001b[1;32m    <a href='file:///home/alantheknight/nto-final/team/.venv/lib/python3.9/site-packages/sklearn/utils/validation.py?line=771'>772</a>\u001b[0m             \u001b[39m\"\u001b[39m\u001b[39myour data has a single feature or array.reshape(1, -1) \u001b[39m\u001b[39m\"\u001b[39m\n\u001b[1;32m    <a href='file:///home/alantheknight/nto-final/team/.venv/lib/python3.9/site-packages/sklearn/utils/validation.py?line=772'>773</a>\u001b[0m             \u001b[39m\"\u001b[39m\u001b[39mif it contains a single sample.\u001b[39m\u001b[39m\"\u001b[39m\u001b[39m.\u001b[39mformat(array)\n\u001b[1;32m    <a href='file:///home/alantheknight/nto-final/team/.venv/lib/python3.9/site-packages/sklearn/utils/validation.py?line=773'>774</a>\u001b[0m         )\n\u001b[1;32m    <a href='file:///home/alantheknight/nto-final/team/.venv/lib/python3.9/site-packages/sklearn/utils/validation.py?line=775'>776</a>\u001b[0m \u001b[39m# make sure we actually converted to numeric:\u001b[39;00m\n\u001b[1;32m    <a href='file:///home/alantheknight/nto-final/team/.venv/lib/python3.9/site-packages/sklearn/utils/validation.py?line=776'>777</a>\u001b[0m \u001b[39mif\u001b[39;00m dtype_numeric \u001b[39mand\u001b[39;00m array\u001b[39m.\u001b[39mdtype\u001b[39m.\u001b[39mkind \u001b[39min\u001b[39;00m \u001b[39m\"\u001b[39m\u001b[39mOUSV\u001b[39m\u001b[39m\"\u001b[39m:\n",
      "\u001b[0;31mValueError\u001b[0m: Expected 2D array, got 1D array instead:\narray=[].\nReshape your data either using array.reshape(-1, 1) if your data has a single feature or array.reshape(1, -1) if it contains a single sample."
     ]
    }
   ],
   "source": [
    "test_indexes = [[i] for i in range(len(training_set) + 2, len(test_set) + 1)]\n",
    "mean_squared_error(test_set['y'], r.predict(test_indexes))"
   ]
  },
  {
   "cell_type": "code",
   "execution_count": null,
   "metadata": {},
   "outputs": [],
   "source": [
    "a = m.plot_components(forecast)\n",
    "a.show()\n"
   ]
  },
  {
   "cell_type": "code",
   "execution_count": null,
   "metadata": {},
   "outputs": [],
   "source": [
    "with open(\"answer.txt\", \"w\") as f:\n",
    "    for v in forecast['yhat']:\n",
    "        f.write(str(v))\n",
    "        f.write('\\n')\n"
   ]
  }
 ],
 "metadata": {
  "interpreter": {
   "hash": "cb83ca93b0b33f27ac9b9b46a6b8ff1fea8c5dac0c4ceae9f58fd0f418b19899"
  },
  "kernelspec": {
   "display_name": "Python 3.9.5 ('.venv': poetry)",
   "language": "python",
   "name": "python3"
  },
  "language_info": {
   "codemirror_mode": {
    "name": "ipython",
    "version": 3
   },
   "file_extension": ".py",
   "mimetype": "text/x-python",
   "name": "python",
   "nbconvert_exporter": "python",
   "pygments_lexer": "ipython3",
   "version": "3.9.5"
  },
  "orig_nbformat": 4
 },
 "nbformat": 4,
 "nbformat_minor": 2
}
